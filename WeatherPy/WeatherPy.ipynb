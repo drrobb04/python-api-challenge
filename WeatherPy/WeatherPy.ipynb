{
 "cells": [
  {
   "cell_type": "markdown",
   "metadata": {},
   "source": [
    "# WeatherPy\n",
    "----\n",
    "\n",
    "#### Note\n",
    "* Instructions have been included for each segment. You do not have to follow them exactly, but they are included to help you think through the steps."
   ]
  },
  {
   "cell_type": "code",
   "execution_count": 5,
   "metadata": {
    "scrolled": true
   },
   "outputs": [],
   "source": [
    "# Dependencies and Setup\n",
    "import matplotlib.pyplot as plt\n",
    "import pandas as pd\n",
    "import numpy as np\n",
    "import requests\n",
    "import time\n",
    "from scipy.stats import linregress\n",
    "\n",
    "# Import API key\n",
    "from api_keys import weather_api_key\n",
    "\n",
    "# Incorporated citipy to determine city based on latitude and longitude\n",
    "from citipy import citipy\n",
    "\n",
    "# Output File (CSV)\n",
    "output_data_file = \"output_data/cities.csv\"\n",
    "\n",
    "# Range of latitudes and longitudes\n",
    "lat_range = (-90, 90)\n",
    "lng_range = (-180, 180)"
   ]
  },
  {
   "cell_type": "markdown",
   "metadata": {},
   "source": [
    "## Generate Cities List"
   ]
  },
  {
   "cell_type": "code",
   "execution_count": 6,
   "metadata": {},
   "outputs": [
    {
     "data": {
      "text/plain": [
       "596"
      ]
     },
     "execution_count": 6,
     "metadata": {},
     "output_type": "execute_result"
    }
   ],
   "source": [
    "# List for holding lat_lngs and cities\n",
    "lat_lngs = []\n",
    "cities = []\n",
    "\n",
    "# Create a set of random lat and lng combinations\n",
    "lats = np.random.uniform(lat_range[0], lat_range[1], size=1500)\n",
    "lngs = np.random.uniform(lng_range[0], lng_range[1], size=1500)\n",
    "lat_lngs = zip(lats, lngs)\n",
    "\n",
    "# Identify nearest city for each lat, lng combination\n",
    "for lat_lng in lat_lngs:\n",
    "    city = citipy.nearest_city(lat_lng[0], lat_lng[1]).city_name\n",
    "    \n",
    "    # If the city is unique, then add it to a our cities list\n",
    "    if city not in cities:\n",
    "        cities.append(city)\n",
    "\n",
    "# Print the city count to confirm sufficient count\n",
    "len(cities)"
   ]
  },
  {
   "cell_type": "markdown",
   "metadata": {},
   "source": [
    "### Perform API Calls\n",
    "* Perform a weather check on each city using a series of successive API calls.\n",
    "* Include a print log of each city as it'sbeing processed (with the city number and city name).\n"
   ]
  },
  {
   "cell_type": "code",
   "execution_count": 20,
   "metadata": {
    "scrolled": true
   },
   "outputs": [
    {
     "name": "stdout",
     "output_type": "stream",
     "text": [
      "Processing record 1 of set 1 | hermanus\n",
      "Processing record 2 of set 1 | dingle\n",
      "Processing record 3 of set 1 | ayolas\n",
      "Processing record 4 of set 1 | cheney\n",
      "Processing record 5 of set 1 | tumannyy\n",
      "City not found. Skipping.\n",
      "Processing record 6 of set 1 | mount gambier\n",
      "Processing record 7 of set 1 | saint-augustin\n",
      "Processing record 8 of set 1 | bredasdorp\n",
      "Processing record 9 of set 1 | ixtapa\n",
      "Processing record 10 of set 1 | ribeira grande\n",
      "Processing record 11 of set 1 | barrow\n",
      "Processing record 12 of set 1 | longyearbyen\n",
      "Processing record 13 of set 1 | lebu\n",
      "Processing record 14 of set 1 | krasnoyarsk\n",
      "Processing record 15 of set 1 | cape town\n",
      "Processing record 16 of set 1 | cap malheureux\n",
      "Processing record 17 of set 1 | kruisfontein\n",
      "Processing record 18 of set 1 | provideniya\n",
      "Processing record 19 of set 1 | belushya guba\n",
      "City not found. Skipping.\n",
      "Processing record 20 of set 1 | punta arenas\n",
      "Processing record 21 of set 1 | tiznit\n",
      "Processing record 22 of set 1 | mataura\n",
      "Processing record 23 of set 1 | bethel\n",
      "Processing record 24 of set 1 | mayahi\n",
      "Processing record 25 of set 1 | kapaa\n",
      "Processing record 26 of set 1 | batagay-alyta\n",
      "Processing record 27 of set 1 | dunda\n",
      "Processing record 28 of set 1 | rawson\n",
      "Processing record 29 of set 1 | hobart\n",
      "Processing record 30 of set 1 | nuuk\n",
      "Processing record 31 of set 1 | riyadh\n",
      "Processing record 32 of set 1 | yaan\n",
      "Processing record 33 of set 1 | mahebourg\n",
      "Processing record 34 of set 1 | college\n",
      "Processing record 35 of set 1 | encruzilhada\n",
      "Processing record 36 of set 1 | samusu\n",
      "City not found. Skipping.\n",
      "Processing record 37 of set 1 | alyangula\n",
      "Processing record 38 of set 1 | albany\n",
      "Processing record 39 of set 1 | vardo\n",
      "Processing record 40 of set 1 | attawapiskat\n",
      "City not found. Skipping.\n",
      "Processing record 41 of set 1 | tuyen quang\n",
      "Processing record 42 of set 1 | bengkulu\n",
      "Processing record 43 of set 1 | nanortalik\n",
      "Processing record 44 of set 1 | ponta do sol\n",
      "Processing record 45 of set 1 | lavrentiya\n",
      "Processing record 46 of set 1 | thunder bay\n",
      "Processing record 47 of set 1 | ilulissat\n",
      "Processing record 48 of set 1 | pangnirtung\n",
      "Processing record 49 of set 1 | peniche\n",
      "Processing record 0 of set 2 | kaitangata\n",
      "Processing record 1 of set 2 | ushuaia\n",
      "Processing record 2 of set 2 | illoqqortoormiut\n",
      "City not found. Skipping.\n",
      "Processing record 3 of set 2 | estelle\n",
      "Processing record 4 of set 2 | dikson\n",
      "Processing record 5 of set 2 | taolanaro\n",
      "City not found. Skipping.\n",
      "Processing record 6 of set 2 | yellowknife\n",
      "Processing record 7 of set 2 | agadir\n",
      "Processing record 8 of set 2 | cherskiy\n",
      "Processing record 9 of set 2 | chokurdakh\n",
      "Processing record 10 of set 2 | ishinomaki\n",
      "Processing record 11 of set 2 | jamestown\n",
      "Processing record 12 of set 2 | yeppoon\n",
      "Processing record 13 of set 2 | port alfred\n",
      "Processing record 14 of set 2 | qaanaaq\n",
      "Processing record 15 of set 2 | pevek\n",
      "Processing record 16 of set 2 | tuktoyaktuk\n",
      "Processing record 17 of set 2 | nsanje\n",
      "Processing record 18 of set 2 | umm lajj\n",
      "Processing record 19 of set 2 | sao gabriel da cachoeira\n",
      "Processing record 20 of set 2 | kodinsk\n",
      "Processing record 21 of set 2 | avarua\n",
      "Processing record 22 of set 2 | winder\n",
      "Processing record 23 of set 2 | waingapu\n",
      "Processing record 24 of set 2 | luderitz\n",
      "Processing record 25 of set 2 | new norfolk\n",
      "Processing record 26 of set 2 | hualmay\n",
      "Processing record 27 of set 2 | east london\n",
      "Processing record 28 of set 2 | puerto ayora\n",
      "Processing record 29 of set 2 | mayari\n",
      "City not found. Skipping.\n",
      "Processing record 30 of set 2 | srednekolymsk\n",
      "Processing record 31 of set 2 | vaini\n",
      "Processing record 32 of set 2 | toba tek singh\n",
      "Processing record 33 of set 2 | nizhneyansk\n",
      "City not found. Skipping.\n",
      "Processing record 34 of set 2 | sioux lookout\n",
      "Processing record 35 of set 2 | rikitea\n",
      "Processing record 36 of set 2 | barentsburg\n",
      "City not found. Skipping.\n",
      "Processing record 37 of set 2 | saskylakh\n",
      "Processing record 38 of set 2 | tsihombe\n",
      "City not found. Skipping.\n",
      "Processing record 39 of set 2 | cidreira\n",
      "Processing record 40 of set 2 | upernavik\n",
      "Processing record 41 of set 2 | mys shmidta\n",
      "City not found. Skipping.\n",
      "Processing record 42 of set 2 | manokwari\n",
      "Processing record 43 of set 2 | saldanha\n",
      "Processing record 44 of set 2 | tamandare\n",
      "Processing record 45 of set 2 | san jose\n",
      "Processing record 46 of set 2 | pangkalanbuun\n",
      "Processing record 47 of set 2 | norman wells\n",
      "Processing record 48 of set 2 | ginir\n",
      "Processing record 49 of set 2 | itum-kale\n",
      "Processing record 0 of set 3 | tuburan\n",
      "Processing record 1 of set 3 | tomatlan\n",
      "Processing record 2 of set 3 | grand gaube\n",
      "Processing record 3 of set 3 | bolivar\n",
      "Processing record 4 of set 3 | shingu\n",
      "Processing record 5 of set 3 | nurota\n",
      "Processing record 6 of set 3 | disraeli\n",
      "Processing record 7 of set 3 | wahpeton\n",
      "Processing record 8 of set 3 | kodiak\n",
      "Processing record 9 of set 3 | banjarmasin\n",
      "Processing record 10 of set 3 | mahibadhoo\n",
      "Processing record 11 of set 3 | namibe\n",
      "Processing record 12 of set 3 | yerbogachen\n",
      "Processing record 13 of set 3 | aswan\n",
      "Processing record 14 of set 3 | enid\n",
      "Processing record 15 of set 3 | nelson bay\n",
      "Processing record 16 of set 3 | lata\n",
      "Processing record 17 of set 3 | tiksi\n",
      "Processing record 18 of set 3 | souillac\n",
      "Processing record 19 of set 3 | chuy\n",
      "Processing record 20 of set 3 | thompson\n",
      "Processing record 21 of set 3 | coahuayana\n",
      "Processing record 22 of set 3 | johi\n",
      "Processing record 23 of set 3 | rungata\n",
      "City not found. Skipping.\n",
      "Processing record 24 of set 3 | moree\n",
      "Processing record 25 of set 3 | san cristobal\n",
      "Processing record 26 of set 3 | hilo\n",
      "Processing record 27 of set 3 | walvis bay\n",
      "Processing record 28 of set 3 | chinsali\n",
      "Processing record 29 of set 3 | hami\n",
      "Processing record 30 of set 3 | rybinsk\n",
      "Processing record 31 of set 3 | sitka\n",
      "Processing record 32 of set 3 | marawi\n",
      "Processing record 33 of set 3 | ouesso\n",
      "Processing record 34 of set 3 | airai\n",
      "Processing record 35 of set 3 | bur gabo\n",
      "City not found. Skipping.\n",
      "Processing record 36 of set 3 | pedini\n",
      "Processing record 37 of set 3 | balyaga\n",
      "Processing record 38 of set 3 | sentyabrskiy\n",
      "City not found. Skipping.\n",
      "Processing record 39 of set 3 | imbituba\n",
      "Processing record 40 of set 3 | bluff\n",
      "Processing record 41 of set 3 | tuatapere\n",
      "Processing record 42 of set 3 | codrington\n",
      "Processing record 43 of set 3 | port elizabeth\n",
      "Processing record 44 of set 3 | hay river\n",
      "Processing record 45 of set 3 | hobyo\n",
      "Processing record 46 of set 3 | tirumullaivasal\n",
      "Processing record 47 of set 3 | salalah\n",
      "Processing record 48 of set 3 | kahului\n",
      "Processing record 49 of set 3 | talnakh\n",
      "Processing record 0 of set 4 | yokosuka\n",
      "Processing record 1 of set 4 | plettenberg bay\n",
      "Processing record 2 of set 4 | teya\n",
      "Processing record 3 of set 4 | lamar\n",
      "Processing record 4 of set 4 | bambous virieux\n",
      "Processing record 5 of set 4 | klokkarvik\n",
      "City not found. Skipping.\n",
      "Processing record 6 of set 4 | tessalit\n",
      "Processing record 7 of set 4 | yarmouth\n",
      "Processing record 8 of set 4 | kavieng\n",
      "Processing record 9 of set 4 | avera\n",
      "Processing record 10 of set 4 | saint george\n",
      "Processing record 11 of set 4 | itacurubi del rosario\n",
      "Processing record 12 of set 4 | boende\n",
      "Processing record 13 of set 4 | kalmunai\n",
      "Processing record 14 of set 4 | busselton\n",
      "Processing record 15 of set 4 | gawler\n",
      "Processing record 16 of set 4 | port-cartier\n",
      "Processing record 17 of set 4 | cabo san lucas\n",
      "Processing record 18 of set 4 | aljezur\n",
      "Processing record 19 of set 4 | santa vitoria do palmar\n",
      "Processing record 20 of set 4 | kuche\n",
      "City not found. Skipping.\n",
      "Processing record 21 of set 4 | tsentralnyy\n",
      "City not found. Skipping.\n",
      "Processing record 22 of set 4 | duzce\n",
      "Processing record 23 of set 4 | tilichiki\n",
      "Processing record 24 of set 4 | palana\n",
      "Processing record 25 of set 4 | port-gentil\n",
      "Processing record 26 of set 4 | springdale\n",
      "Processing record 27 of set 4 | vestmannaeyjar\n",
      "Processing record 28 of set 4 | naze\n",
      "Processing record 29 of set 4 | castro\n",
      "Processing record 30 of set 4 | port hardy\n",
      "Processing record 31 of set 4 | xining\n",
      "Processing record 32 of set 4 | eyl\n",
      "Processing record 33 of set 4 | bathsheba\n",
      "Processing record 34 of set 4 | shenjiamen\n",
      "Processing record 35 of set 4 | trogir\n",
      "Processing record 36 of set 4 | torbay\n",
      "Processing record 37 of set 4 | klaksvik\n",
      "Processing record 38 of set 4 | velizh\n"
     ]
    },
    {
     "name": "stdout",
     "output_type": "stream",
     "text": [
      "Processing record 39 of set 4 | hvammstangi\n",
      "City not found. Skipping.\n",
      "Processing record 40 of set 4 | vaitupu\n",
      "City not found. Skipping.\n",
      "Processing record 41 of set 4 | beirut\n",
      "Processing record 42 of set 4 | huarmey\n",
      "Processing record 43 of set 4 | itoman\n",
      "Processing record 44 of set 4 | alekseyevka\n",
      "Processing record 45 of set 4 | sarandi\n",
      "Processing record 46 of set 4 | tifton\n",
      "Processing record 47 of set 4 | laguna\n",
      "Processing record 48 of set 4 | butaritari\n",
      "Processing record 49 of set 4 | saint-philippe\n",
      "Processing record 0 of set 5 | prince george\n",
      "Processing record 1 of set 5 | arandis\n",
      "Processing record 2 of set 5 | mar del plata\n",
      "Processing record 3 of set 5 | marzuq\n",
      "Processing record 4 of set 5 | tasiilaq\n",
      "Processing record 5 of set 5 | abaete\n",
      "Processing record 6 of set 5 | vostok\n",
      "Processing record 7 of set 5 | moose factory\n",
      "Processing record 8 of set 5 | lindi\n",
      "Processing record 9 of set 5 | severo-kurilsk\n",
      "Processing record 10 of set 5 | palabuhanratu\n",
      "City not found. Skipping.\n",
      "Processing record 11 of set 5 | bintulu\n",
      "Processing record 12 of set 5 | chalchihuites\n",
      "Processing record 13 of set 5 | hasaki\n",
      "Processing record 14 of set 5 | denpasar\n",
      "Processing record 15 of set 5 | rorvik\n",
      "Processing record 16 of set 5 | hit\n",
      "Processing record 17 of set 5 | atuona\n",
      "Processing record 18 of set 5 | corowa\n",
      "Processing record 19 of set 5 | san antonio\n",
      "Processing record 20 of set 5 | salinas\n",
      "Processing record 21 of set 5 | nome\n",
      "Processing record 22 of set 5 | panguna\n",
      "Processing record 23 of set 5 | praxedis guerrero\n",
      "Processing record 24 of set 5 | udachnyy\n",
      "Processing record 25 of set 5 | takoradi\n",
      "Processing record 26 of set 5 | lompoc\n",
      "Processing record 27 of set 5 | lorengau\n",
      "Processing record 28 of set 5 | itanhaem\n",
      "Processing record 29 of set 5 | pauini\n",
      "Processing record 30 of set 5 | lasa\n",
      "Processing record 31 of set 5 | sisimiut\n",
      "Processing record 32 of set 5 | nchelenge\n",
      "Processing record 33 of set 5 | necochea\n",
      "Processing record 34 of set 5 | saint-georges\n",
      "Processing record 35 of set 5 | ostrovnoy\n",
      "Processing record 36 of set 5 | toamasina\n",
      "Processing record 37 of set 5 | cicero dantas\n",
      "Processing record 38 of set 5 | clovis\n",
      "Processing record 39 of set 5 | arraial do cabo\n",
      "Processing record 40 of set 5 | muros\n",
      "Processing record 41 of set 5 | katsuura\n",
      "Processing record 42 of set 5 | zhigansk\n",
      "Processing record 43 of set 5 | tangkak\n",
      "Processing record 44 of set 5 | dallas\n",
      "Processing record 45 of set 5 | hithadhoo\n",
      "Processing record 46 of set 5 | jumla\n",
      "Processing record 47 of set 5 | pringsewu\n",
      "Processing record 48 of set 5 | cockburn town\n",
      "Processing record 49 of set 5 | khatanga\n",
      "Processing record 0 of set 6 | olinda\n",
      "Processing record 1 of set 6 | kizukuri\n",
      "Processing record 2 of set 6 | faanui\n",
      "Processing record 3 of set 6 | majene\n",
      "Processing record 4 of set 6 | grand river south east\n",
      "City not found. Skipping.\n",
      "Processing record 5 of set 6 | westport\n",
      "Processing record 6 of set 6 | mendi\n",
      "Processing record 7 of set 6 | tura\n",
      "Processing record 8 of set 6 | greeley\n",
      "Processing record 9 of set 6 | oxford\n",
      "Processing record 10 of set 6 | bonavista\n",
      "Processing record 11 of set 6 | vylgort\n",
      "City not found. Skipping.\n",
      "Processing record 12 of set 6 | caravelas\n",
      "Processing record 13 of set 6 | svetlogorsk\n",
      "Processing record 14 of set 6 | high level\n",
      "Processing record 15 of set 6 | digby\n",
      "Processing record 16 of set 6 | maumere\n",
      "Processing record 17 of set 6 | kinablangan\n",
      "Processing record 18 of set 6 | nhulunbuy\n",
      "Processing record 19 of set 6 | hambantota\n",
      "Processing record 20 of set 6 | bosaso\n",
      "Processing record 21 of set 6 | rome\n",
      "Processing record 22 of set 6 | el terrero\n",
      "Processing record 23 of set 6 | thinadhoo\n",
      "Processing record 24 of set 6 | touros\n",
      "Processing record 25 of set 6 | tomado\n",
      "Processing record 26 of set 6 | georgetown\n",
      "Processing record 27 of set 6 | iqaluit\n",
      "Processing record 28 of set 6 | boa vista\n",
      "Processing record 29 of set 6 | bilibino\n",
      "Processing record 30 of set 6 | beringovskiy\n",
      "Processing record 31 of set 6 | sao jose da coroa grande\n",
      "Processing record 32 of set 6 | bima\n",
      "Processing record 33 of set 6 | maloshuyka\n",
      "City not found. Skipping.\n",
      "Processing record 34 of set 6 | verkhnevilyuysk\n",
      "Processing record 35 of set 6 | nouakchott\n",
      "Processing record 36 of set 6 | ulaanbaatar\n",
      "Processing record 37 of set 6 | ibotirama\n",
      "Processing record 38 of set 6 | magan\n",
      "Processing record 39 of set 6 | teluk nibung\n",
      "Processing record 40 of set 6 | san martin\n",
      "Processing record 41 of set 6 | geraldton\n",
      "Processing record 42 of set 6 | hargeysa\n",
      "Processing record 43 of set 6 | chifeng\n",
      "Processing record 44 of set 6 | cerkezkoy\n",
      "Processing record 45 of set 6 | maribondo\n",
      "Processing record 46 of set 6 | deputatskiy\n",
      "Processing record 47 of set 6 | weihai\n",
      "Processing record 48 of set 6 | pemba\n",
      "Processing record 49 of set 6 | pacifica\n",
      "Processing record 0 of set 7 | nizhniy ingash\n",
      "Processing record 1 of set 7 | viedma\n",
      "Processing record 2 of set 7 | ondjiva\n",
      "Processing record 3 of set 7 | galgani\n",
      "City not found. Skipping.\n",
      "Processing record 4 of set 7 | louisbourg\n",
      "City not found. Skipping.\n",
      "Processing record 5 of set 7 | beloha\n",
      "Processing record 6 of set 7 | natalio\n",
      "Processing record 7 of set 7 | cochrane\n",
      "Processing record 8 of set 7 | ambilobe\n",
      "Processing record 9 of set 7 | bay roberts\n",
      "Processing record 10 of set 7 | vilhena\n",
      "Processing record 11 of set 7 | valle hermoso\n",
      "Processing record 12 of set 7 | krasnoselkup\n",
      "Processing record 13 of set 7 | sumoto\n",
      "Processing record 14 of set 7 | vysokogornyy\n",
      "Processing record 15 of set 7 | santiago del estero\n",
      "Processing record 16 of set 7 | tautira\n",
      "Processing record 17 of set 7 | llata\n",
      "Processing record 18 of set 7 | padang\n",
      "Processing record 19 of set 7 | oliveira dos brejinhos\n",
      "Processing record 20 of set 7 | marcona\n",
      "City not found. Skipping.\n",
      "Processing record 21 of set 7 | nikolskoye\n",
      "Processing record 22 of set 7 | xinpu\n",
      "Processing record 23 of set 7 | flin flon\n",
      "Processing record 24 of set 7 | zolotinka\n",
      "City not found. Skipping.\n",
      "Processing record 25 of set 7 | gizo\n",
      "Processing record 26 of set 7 | saint anthony\n",
      "Processing record 27 of set 7 | carnarvon\n",
      "Processing record 28 of set 7 | kingston\n",
      "Processing record 29 of set 7 | buchanan\n",
      "Processing record 30 of set 7 | torrington\n",
      "Processing record 31 of set 7 | vao\n",
      "Processing record 32 of set 7 | pyskowice\n",
      "Processing record 33 of set 7 | assen\n",
      "Processing record 34 of set 7 | bjornevatn\n",
      "Processing record 35 of set 7 | veraval\n",
      "Processing record 36 of set 7 | sovetskiy\n",
      "Processing record 37 of set 7 | winslow\n",
      "Processing record 38 of set 7 | severnoye\n",
      "Processing record 39 of set 7 | bembereke\n",
      "Processing record 40 of set 7 | pisco\n",
      "Processing record 41 of set 7 | saint-paul\n",
      "Processing record 42 of set 7 | ransang\n",
      "Processing record 43 of set 7 | nisia floresta\n",
      "Processing record 44 of set 7 | florence\n",
      "Processing record 45 of set 7 | tabiauea\n",
      "City not found. Skipping.\n",
      "Processing record 46 of set 7 | yulara\n",
      "Processing record 47 of set 7 | teahupoo\n",
      "Processing record 48 of set 7 | calbuco\n",
      "Processing record 49 of set 7 | okha\n",
      "Processing record 0 of set 8 | vidim\n",
      "Processing record 1 of set 8 | ejea de los caballeros\n",
      "Processing record 2 of set 8 | tripoli\n",
      "Processing record 3 of set 8 | saint-pierre\n",
      "Processing record 4 of set 8 | solton\n",
      "Processing record 5 of set 8 | montevideo\n",
      "Processing record 6 of set 8 | natal\n",
      "Processing record 7 of set 8 | almaznyy\n",
      "Processing record 8 of set 8 | san pedro\n",
      "Processing record 9 of set 8 | san patricio\n",
      "Processing record 10 of set 8 | filingue\n",
      "Processing record 11 of set 8 | sulangan\n",
      "Processing record 12 of set 8 | makhu\n",
      "Processing record 13 of set 8 | aguilas\n",
      "Processing record 14 of set 8 | yar-sale\n",
      "Processing record 15 of set 8 | ust-maya\n",
      "Processing record 16 of set 8 | fuyu\n",
      "Processing record 17 of set 8 | ossora\n",
      "Processing record 18 of set 8 | yucaipa\n",
      "Processing record 19 of set 8 | ahipara\n",
      "Processing record 20 of set 8 | cholan\n",
      "City not found. Skipping.\n",
      "Processing record 21 of set 8 | adrar\n",
      "Processing record 22 of set 8 | gat\n",
      "Processing record 23 of set 8 | amderma\n",
      "City not found. Skipping.\n",
      "Processing record 24 of set 8 | kutum\n",
      "Processing record 25 of set 8 | san angelo\n",
      "Processing record 26 of set 8 | jurado\n",
      "Processing record 27 of set 8 | san quintin\n",
      "Processing record 28 of set 8 | batemans bay\n",
      "Processing record 29 of set 8 | tasbuget\n",
      "City not found. Skipping.\n",
      "Processing record 30 of set 8 | hihifo\n"
     ]
    },
    {
     "name": "stdout",
     "output_type": "stream",
     "text": [
      "City not found. Skipping.\n",
      "Processing record 31 of set 8 | coachella\n",
      "Processing record 32 of set 8 | troitsko-pechorsk\n",
      "Processing record 33 of set 8 | banda aceh\n",
      "Processing record 34 of set 8 | ruthin\n",
      "Processing record 35 of set 8 | harper\n",
      "Processing record 36 of set 8 | melito di porto salvo\n",
      "Processing record 37 of set 8 | hungen\n",
      "Processing record 38 of set 8 | shwebo\n",
      "Processing record 39 of set 8 | weyburn\n",
      "Processing record 40 of set 8 | baihar\n",
      "Processing record 41 of set 8 | upata\n",
      "Processing record 42 of set 8 | sur\n",
      "Processing record 43 of set 8 | walcz\n",
      "Processing record 44 of set 8 | popondetta\n",
      "Processing record 45 of set 8 | puerto colombia\n",
      "Processing record 46 of set 8 | ziarat\n",
      "Processing record 47 of set 8 | cheuskiny\n",
      "City not found. Skipping.\n",
      "Processing record 48 of set 8 | ancud\n",
      "Processing record 49 of set 8 | am timan\n",
      "Processing record 0 of set 9 | dukat\n",
      "Processing record 1 of set 9 | oranjemund\n",
      "Processing record 2 of set 9 | honiara\n",
      "Processing record 3 of set 9 | anage\n",
      "Processing record 4 of set 9 | gerash\n",
      "Processing record 5 of set 9 | esperance\n",
      "Processing record 6 of set 9 | portland\n",
      "Processing record 7 of set 9 | gwadar\n",
      "Processing record 8 of set 9 | tanete\n",
      "Processing record 9 of set 9 | gela\n",
      "Processing record 10 of set 9 | yazykovo\n",
      "Processing record 11 of set 9 | malwan\n",
      "City not found. Skipping.\n",
      "Processing record 12 of set 9 | bengkalis\n",
      "City not found. Skipping.\n",
      "Processing record 13 of set 9 | afyonkarahisar\n",
      "Processing record 14 of set 9 | tarime\n",
      "Processing record 15 of set 9 | ratnagiri\n",
      "Processing record 16 of set 9 | bossembele\n",
      "City not found. Skipping.\n",
      "Processing record 17 of set 9 | berezovyy\n",
      "Processing record 18 of set 9 | shelburne\n",
      "Processing record 19 of set 9 | karasjok\n",
      "Processing record 20 of set 9 | calvinia\n",
      "Processing record 21 of set 9 | poya\n",
      "Processing record 22 of set 9 | barcarena\n",
      "Processing record 23 of set 9 | george town\n",
      "Processing record 24 of set 9 | kijang\n",
      "Processing record 25 of set 9 | kronshtadt\n",
      "Processing record 26 of set 9 | port augusta\n",
      "Processing record 27 of set 9 | puerto carreno\n",
      "Processing record 28 of set 9 | minot\n",
      "Processing record 29 of set 9 | gladstone\n",
      "Processing record 30 of set 9 | kishtwar\n",
      "Processing record 31 of set 9 | saleaula\n",
      "City not found. Skipping.\n",
      "Processing record 32 of set 9 | alice springs\n",
      "Processing record 33 of set 9 | fuente palmera\n",
      "Processing record 34 of set 9 | hovd\n",
      "Processing record 35 of set 9 | labuhan\n",
      "Processing record 36 of set 9 | coquimbo\n",
      "Processing record 37 of set 9 | alta floresta\n",
      "Processing record 38 of set 9 | ulladulla\n",
      "Processing record 39 of set 9 | sakaiminato\n",
      "Processing record 40 of set 9 | sabzevar\n",
      "Processing record 41 of set 9 | andros town\n",
      "Processing record 42 of set 9 | dongsheng\n",
      "Processing record 43 of set 9 | mehamn\n",
      "Processing record 44 of set 9 | cayenne\n",
      "Processing record 45 of set 9 | japura\n",
      "Processing record 46 of set 9 | kangaatsiaq\n",
      "Processing record 47 of set 9 | oktyabrskiy\n",
      "Processing record 48 of set 9 | manyana\n",
      "Processing record 49 of set 9 | victoria\n",
      "Processing record 0 of set 10 | north bend\n",
      "Processing record 1 of set 10 | jiroft\n",
      "City not found. Skipping.\n",
      "Processing record 2 of set 10 | baherden\n",
      "Processing record 3 of set 10 | lerwick\n",
      "Processing record 4 of set 10 | ternate\n",
      "Processing record 5 of set 10 | vytegra\n",
      "Processing record 6 of set 10 | sao filipe\n",
      "Processing record 7 of set 10 | amalfi\n",
      "Processing record 8 of set 10 | kungurtug\n",
      "Processing record 9 of set 10 | jorpeland\n",
      "Processing record 10 of set 10 | clyde river\n",
      "Processing record 11 of set 10 | petropavlovsk-kamchatskiy\n",
      "Processing record 12 of set 10 | kieta\n",
      "Processing record 13 of set 10 | chicama\n",
      "Processing record 14 of set 10 | matagami\n",
      "Processing record 15 of set 10 | palembang\n",
      "Processing record 16 of set 10 | baykit\n",
      "Processing record 17 of set 10 | wahiawa\n",
      "Processing record 18 of set 10 | vrangel\n",
      "Processing record 19 of set 10 | sola\n",
      "Processing record 20 of set 10 | plastun\n",
      "Processing record 21 of set 10 | qui nhon\n",
      "Processing record 22 of set 10 | zamardi\n",
      "Processing record 23 of set 10 | senanga\n",
      "Processing record 24 of set 10 | epureni\n",
      "Processing record 25 of set 10 | leningradskiy\n",
      "Processing record 26 of set 10 | samana\n",
      "Processing record 27 of set 10 | areosa\n",
      "Processing record 28 of set 10 | gravdal\n",
      "Processing record 29 of set 10 | fortuna\n",
      "Processing record 30 of set 10 | marsabit\n",
      "Processing record 31 of set 10 | kavaratti\n",
      "Processing record 32 of set 10 | makakilo city\n",
      "Processing record 33 of set 10 | nampula\n",
      "Processing record 34 of set 10 | angoche\n",
      "Processing record 35 of set 10 | vanimo\n",
      "Processing record 36 of set 10 | tigre\n",
      "Processing record 37 of set 10 | chapais\n",
      "Processing record 38 of set 10 | tiarei\n",
      "Processing record 39 of set 10 | makaryev\n",
      "Processing record 40 of set 10 | mindelheim\n",
      "Processing record 41 of set 10 | broome\n",
      "Processing record 42 of set 10 | bellevue\n",
      "Processing record 43 of set 10 | bolungarvik\n",
      "City not found. Skipping.\n",
      "Processing record 44 of set 10 | nanzhang\n",
      "Processing record 45 of set 10 | kenai\n",
      "Processing record 46 of set 10 | kununurra\n",
      "Processing record 47 of set 10 | leiyang\n",
      "Processing record 48 of set 10 | fukue\n",
      "Processing record 49 of set 10 | narsaq\n",
      "Processing record 0 of set 11 | qingdao\n",
      "Processing record 1 of set 11 | guerrero negro\n",
      "Processing record 2 of set 11 | mayumba\n",
      "Processing record 3 of set 11 | cabano\n",
      "Processing record 4 of set 11 | manohar thana\n",
      "Processing record 5 of set 11 | hailey\n",
      "Processing record 6 of set 11 | mongagua\n",
      "Processing record 7 of set 11 | erdenet\n",
      "Processing record 8 of set 11 | pouebo\n",
      "Processing record 9 of set 11 | bandarbeyla\n",
      "Processing record 10 of set 11 | rauma\n",
      "Processing record 11 of set 11 | muzhi\n",
      "Processing record 12 of set 11 | deh rawud\n",
      "City not found. Skipping.\n",
      "Processing record 13 of set 11 | alofi\n",
      "Processing record 14 of set 11 | kindu\n",
      "Processing record 15 of set 11 | yambio\n",
      "Processing record 16 of set 11 | sinnamary\n",
      "Processing record 17 of set 11 | sorvag\n",
      "City not found. Skipping.\n",
      "Processing record 18 of set 11 | timizart\n",
      "Processing record 19 of set 11 | pinega\n",
      "Processing record 20 of set 11 | laramie\n",
      "Processing record 21 of set 11 | amahai\n",
      "Processing record 22 of set 11 | hervey bay\n",
      "Processing record 23 of set 11 | vila velha\n",
      "Processing record 24 of set 11 | quatre cocos\n",
      "Processing record 25 of set 11 | boyolangu\n",
      "Processing record 26 of set 11 | meyungs\n",
      "City not found. Skipping.\n",
      "Processing record 27 of set 11 | luwuk\n",
      "Processing record 28 of set 11 | scicli\n",
      "Processing record 29 of set 11 | wuxue\n",
      "Processing record 30 of set 11 | santa ines\n",
      "Processing record 31 of set 11 | virginia beach\n",
      "Processing record 32 of set 11 | bandundu\n",
      "Processing record 33 of set 11 | mwense\n",
      "Processing record 34 of set 11 | progreso\n",
      "Processing record 35 of set 11 | ayan\n",
      "Processing record 36 of set 11 | puerto del rosario\n",
      "Processing record 37 of set 11 | okulovka\n",
      "Processing record 38 of set 11 | maceio\n",
      "Processing record 39 of set 11 | te anau\n",
      "Processing record 40 of set 11 | katha\n",
      "City not found. Skipping.\n",
      "Processing record 41 of set 11 | bereda\n",
      "Processing record 42 of set 11 | mogadishu\n",
      "Processing record 43 of set 11 | santa isabel do rio negro\n",
      "Processing record 44 of set 11 | halalo\n",
      "City not found. Skipping.\n",
      "Processing record 45 of set 11 | husavik\n",
      "Processing record 46 of set 11 | minggang\n",
      "Processing record 47 of set 11 | evensk\n",
      "Processing record 48 of set 11 | tual\n",
      "Processing record 49 of set 11 | kofarnihon\n",
      "City not found. Skipping.\n",
      "Processing record 0 of set 12 | yichang\n",
      "Processing record 1 of set 12 | bud\n",
      "Processing record 2 of set 12 | port lincoln\n",
      "Processing record 3 of set 12 | kikwit\n",
      "Processing record 4 of set 12 | komsomolskiy\n",
      "Processing record 5 of set 12 | naica\n",
      "Processing record 6 of set 12 | launceston\n",
      "Processing record 7 of set 12 | aleksandrovsk-sakhalinskiy\n",
      "Processing record 8 of set 12 | tigil\n",
      "Processing record 9 of set 12 | quelimane\n",
      "Processing record 10 of set 12 | mahon\n",
      "Processing record 11 of set 12 | gamba\n",
      "Processing record 12 of set 12 | falaleu\n",
      "City not found. Skipping.\n",
      "Processing record 13 of set 12 | adeje\n",
      "Processing record 14 of set 12 | seymchan\n",
      "Processing record 15 of set 12 | melfi\n",
      "Processing record 16 of set 12 | ketchikan\n",
      "Processing record 17 of set 12 | elizabeth city\n",
      "Processing record 18 of set 12 | iracoubo\n"
     ]
    },
    {
     "name": "stdout",
     "output_type": "stream",
     "text": [
      "Processing record 19 of set 12 | rurrenabaque\n",
      "Processing record 20 of set 12 | darnah\n",
      "Processing record 21 of set 12 | mocambique\n",
      "City not found. Skipping.\n",
      "Processing record 22 of set 12 | kosonsoy\n",
      "Processing record 23 of set 12 | turek\n",
      "Processing record 24 of set 12 | paamiut\n",
      "Processing record 25 of set 12 | berlevag\n",
      "Processing record 26 of set 12 | puerto leguizamo\n",
      "Processing record 27 of set 12 | kurumkan\n",
      "Processing record 28 of set 12 | sioux falls\n",
      "Processing record 29 of set 12 | la fleche\n",
      "Processing record 30 of set 12 | dalvik\n",
      "Processing record 31 of set 12 | redlands\n",
      "Processing record 32 of set 12 | buala\n",
      "Processing record 33 of set 12 | severodvinsk\n",
      "Processing record 34 of set 12 | koping\n",
      "Processing record 35 of set 12 | sukhobezvodnoye\n",
      "Processing record 36 of set 12 | yuli\n",
      "Processing record 37 of set 12 | nguiu\n",
      "City not found. Skipping.\n",
      "Processing record 38 of set 12 | khorixas\n",
      "Processing record 39 of set 12 | poum\n",
      "Processing record 40 of set 12 | rocha\n",
      "Processing record 41 of set 12 | yashkul\n",
      "Processing record 42 of set 12 | ensley\n",
      "Processing record 43 of set 12 | axim\n",
      "Processing record 44 of set 12 | namatanai\n",
      "Processing record 45 of set 12 | mbanza-ngungu\n",
      "Processing record 46 of set 12 | havre\n",
      "data retrieval finished\n"
     ]
    }
   ],
   "source": [
    "#api url\n",
    "#start_url = \"http://api.openweathermap.org/data/2.5/weather?q=\"\n",
    "url = \"http://api.openweathermap.org/data/2.5/weather?\"\n",
    "\n",
    "#empty data list\n",
    "data = []\n",
    "\n",
    "#trackers\n",
    "city_count = 0\n",
    "group_count = 1\n",
    "\n",
    "#api call for loop\n",
    "for city in cities:\n",
    "    \n",
    "    #make city url\n",
    "    city_url = url + \"appid=\" + weather_api_key + \"&q=\" + city\n",
    "    \n",
    "    #add to city count\n",
    "    city_count = city_count + 1\n",
    "    \n",
    "    #create groups of 50 to match provided output\n",
    "    if (city_count >= 50 and city_count % 50 == 0):\n",
    "        city_count = 0\n",
    "        group_count = group_count + 1\n",
    "    \n",
    "    #make logger\n",
    "    print(f'Processing record {city_count} of set {group_count} | {city}')\n",
    "    \n",
    "    #make api calls\n",
    "    try:\n",
    "        \n",
    "        #inital call\n",
    "        city_response = requests.get(city_url).json()\n",
    "        \n",
    "        #get columns we need from displays below\n",
    "        lat = city_response[\"coord\"][\"lat\"]\n",
    "        lng = city_response[\"coord\"][\"lon\"]\n",
    "        max_temp = city_response[\"main\"][\"temp_max\"]\n",
    "        humidity = city_response[\"main\"][\"humidity\"]\n",
    "        cloudiness = city_response[\"clouds\"][\"all\"]\n",
    "        wind_speed = city_response[\"wind\"][\"speed\"]\n",
    "        country = city_response[\"sys\"][\"country\"]\n",
    "        date = city_response[\"dt\"]\n",
    "        \n",
    "        #add data to list\n",
    "        data.append({\"city\" : city,\n",
    "                     \"lat\" : lat,\n",
    "                     \"lng\" : lng,\n",
    "                     \"max temp\" : max_temp,\n",
    "                     \"humidity\" : humidity,\n",
    "                     \"cloudiness\" : cloudiness,\n",
    "                     \"wind speed\" : wind_speed,\n",
    "                     \"country\" : country,\n",
    "                     \"date\" : date})\n",
    "        \n",
    "    #error skip\n",
    "    except:\n",
    "        print(\"City not found. Skipping.\")\n",
    "        pass\n",
    "\n",
    "#log end\n",
    "print(\"data retrieval finished\")\n",
    "    "
   ]
  },
  {
   "cell_type": "markdown",
   "metadata": {},
   "source": [
    "### Convert Raw Data to DataFrame\n",
    "* Export the city data into a .csv.\n",
    "* Display the DataFrame"
   ]
  },
  {
   "cell_type": "code",
   "execution_count": 25,
   "metadata": {},
   "outputs": [
    {
     "data": {
      "text/html": [
       "<div>\n",
       "<style scoped>\n",
       "    .dataframe tbody tr th:only-of-type {\n",
       "        vertical-align: middle;\n",
       "    }\n",
       "\n",
       "    .dataframe tbody tr th {\n",
       "        vertical-align: top;\n",
       "    }\n",
       "\n",
       "    .dataframe thead th {\n",
       "        text-align: right;\n",
       "    }\n",
       "</style>\n",
       "<table border=\"1\" class=\"dataframe\">\n",
       "  <thead>\n",
       "    <tr style=\"text-align: right;\">\n",
       "      <th></th>\n",
       "      <th>city</th>\n",
       "      <th>lat</th>\n",
       "      <th>lng</th>\n",
       "      <th>max temp</th>\n",
       "      <th>humidity</th>\n",
       "      <th>cloudiness</th>\n",
       "      <th>wind speed</th>\n",
       "      <th>country</th>\n",
       "      <th>date</th>\n",
       "    </tr>\n",
       "  </thead>\n",
       "  <tbody>\n",
       "    <tr>\n",
       "      <th>0</th>\n",
       "      <td>hermanus</td>\n",
       "      <td>-34.4187</td>\n",
       "      <td>19.2345</td>\n",
       "      <td>287.48</td>\n",
       "      <td>73</td>\n",
       "      <td>100</td>\n",
       "      <td>4.66</td>\n",
       "      <td>ZA</td>\n",
       "      <td>1629136234</td>\n",
       "    </tr>\n",
       "    <tr>\n",
       "      <th>1</th>\n",
       "      <td>dingle</td>\n",
       "      <td>10.9995</td>\n",
       "      <td>122.6711</td>\n",
       "      <td>298.04</td>\n",
       "      <td>90</td>\n",
       "      <td>97</td>\n",
       "      <td>2.45</td>\n",
       "      <td>PH</td>\n",
       "      <td>1629136234</td>\n",
       "    </tr>\n",
       "    <tr>\n",
       "      <th>2</th>\n",
       "      <td>ayolas</td>\n",
       "      <td>-27.4000</td>\n",
       "      <td>-56.9000</td>\n",
       "      <td>300.98</td>\n",
       "      <td>38</td>\n",
       "      <td>5</td>\n",
       "      <td>2.16</td>\n",
       "      <td>PY</td>\n",
       "      <td>1629136235</td>\n",
       "    </tr>\n",
       "    <tr>\n",
       "      <th>3</th>\n",
       "      <td>cheney</td>\n",
       "      <td>47.4874</td>\n",
       "      <td>-117.5758</td>\n",
       "      <td>304.12</td>\n",
       "      <td>24</td>\n",
       "      <td>20</td>\n",
       "      <td>9.26</td>\n",
       "      <td>US</td>\n",
       "      <td>1629136235</td>\n",
       "    </tr>\n",
       "    <tr>\n",
       "      <th>4</th>\n",
       "      <td>mount gambier</td>\n",
       "      <td>-37.8333</td>\n",
       "      <td>140.7667</td>\n",
       "      <td>282.10</td>\n",
       "      <td>93</td>\n",
       "      <td>90</td>\n",
       "      <td>3.60</td>\n",
       "      <td>AU</td>\n",
       "      <td>1629136236</td>\n",
       "    </tr>\n",
       "    <tr>\n",
       "      <th>...</th>\n",
       "      <td>...</td>\n",
       "      <td>...</td>\n",
       "      <td>...</td>\n",
       "      <td>...</td>\n",
       "      <td>...</td>\n",
       "      <td>...</td>\n",
       "      <td>...</td>\n",
       "      <td>...</td>\n",
       "      <td>...</td>\n",
       "    </tr>\n",
       "    <tr>\n",
       "      <th>543</th>\n",
       "      <td>ensley</td>\n",
       "      <td>30.5188</td>\n",
       "      <td>-87.2728</td>\n",
       "      <td>301.81</td>\n",
       "      <td>81</td>\n",
       "      <td>75</td>\n",
       "      <td>1.79</td>\n",
       "      <td>US</td>\n",
       "      <td>1629136433</td>\n",
       "    </tr>\n",
       "    <tr>\n",
       "      <th>544</th>\n",
       "      <td>axim</td>\n",
       "      <td>4.8699</td>\n",
       "      <td>-2.2405</td>\n",
       "      <td>298.63</td>\n",
       "      <td>74</td>\n",
       "      <td>98</td>\n",
       "      <td>3.96</td>\n",
       "      <td>GH</td>\n",
       "      <td>1629136434</td>\n",
       "    </tr>\n",
       "    <tr>\n",
       "      <th>545</th>\n",
       "      <td>namatanai</td>\n",
       "      <td>-3.6667</td>\n",
       "      <td>152.4333</td>\n",
       "      <td>298.55</td>\n",
       "      <td>82</td>\n",
       "      <td>100</td>\n",
       "      <td>1.17</td>\n",
       "      <td>PG</td>\n",
       "      <td>1629136434</td>\n",
       "    </tr>\n",
       "    <tr>\n",
       "      <th>546</th>\n",
       "      <td>mbanza-ngungu</td>\n",
       "      <td>-5.2500</td>\n",
       "      <td>14.8667</td>\n",
       "      <td>300.07</td>\n",
       "      <td>53</td>\n",
       "      <td>91</td>\n",
       "      <td>3.09</td>\n",
       "      <td>CD</td>\n",
       "      <td>1629136434</td>\n",
       "    </tr>\n",
       "    <tr>\n",
       "      <th>547</th>\n",
       "      <td>havre</td>\n",
       "      <td>49.5833</td>\n",
       "      <td>0.3333</td>\n",
       "      <td>291.73</td>\n",
       "      <td>77</td>\n",
       "      <td>20</td>\n",
       "      <td>7.20</td>\n",
       "      <td>FR</td>\n",
       "      <td>1629136435</td>\n",
       "    </tr>\n",
       "  </tbody>\n",
       "</table>\n",
       "<p>548 rows × 9 columns</p>\n",
       "</div>"
      ],
      "text/plain": [
       "              city      lat       lng  max temp  humidity  cloudiness  \\\n",
       "0         hermanus -34.4187   19.2345    287.48        73         100   \n",
       "1           dingle  10.9995  122.6711    298.04        90          97   \n",
       "2           ayolas -27.4000  -56.9000    300.98        38           5   \n",
       "3           cheney  47.4874 -117.5758    304.12        24          20   \n",
       "4    mount gambier -37.8333  140.7667    282.10        93          90   \n",
       "..             ...      ...       ...       ...       ...         ...   \n",
       "543         ensley  30.5188  -87.2728    301.81        81          75   \n",
       "544           axim   4.8699   -2.2405    298.63        74          98   \n",
       "545      namatanai  -3.6667  152.4333    298.55        82         100   \n",
       "546  mbanza-ngungu  -5.2500   14.8667    300.07        53          91   \n",
       "547          havre  49.5833    0.3333    291.73        77          20   \n",
       "\n",
       "     wind speed country        date  \n",
       "0          4.66      ZA  1629136234  \n",
       "1          2.45      PH  1629136234  \n",
       "2          2.16      PY  1629136235  \n",
       "3          9.26      US  1629136235  \n",
       "4          3.60      AU  1629136236  \n",
       "..          ...     ...         ...  \n",
       "543        1.79      US  1629136433  \n",
       "544        3.96      GH  1629136434  \n",
       "545        1.17      PG  1629136434  \n",
       "546        3.09      CD  1629136434  \n",
       "547        7.20      FR  1629136435  \n",
       "\n",
       "[548 rows x 9 columns]"
      ]
     },
     "execution_count": 25,
     "metadata": {},
     "output_type": "execute_result"
    }
   ],
   "source": [
    "data_df = pd.DataFrame(data)\n",
    "data_df"
   ]
  },
  {
   "cell_type": "markdown",
   "metadata": {},
   "source": [
    "## Inspect the data and remove the cities where the humidity > 100%.\n",
    "----\n",
    "Skip this step if there are no cities that have humidity > 100%. "
   ]
  },
  {
   "cell_type": "code",
   "execution_count": 28,
   "metadata": {},
   "outputs": [
    {
     "data": {
      "text/html": [
       "<div>\n",
       "<style scoped>\n",
       "    .dataframe tbody tr th:only-of-type {\n",
       "        vertical-align: middle;\n",
       "    }\n",
       "\n",
       "    .dataframe tbody tr th {\n",
       "        vertical-align: top;\n",
       "    }\n",
       "\n",
       "    .dataframe thead th {\n",
       "        text-align: right;\n",
       "    }\n",
       "</style>\n",
       "<table border=\"1\" class=\"dataframe\">\n",
       "  <thead>\n",
       "    <tr style=\"text-align: right;\">\n",
       "      <th></th>\n",
       "      <th>city</th>\n",
       "      <th>lat</th>\n",
       "      <th>lng</th>\n",
       "      <th>max temp</th>\n",
       "      <th>humidity</th>\n",
       "      <th>cloudiness</th>\n",
       "      <th>wind speed</th>\n",
       "      <th>country</th>\n",
       "      <th>date</th>\n",
       "    </tr>\n",
       "  </thead>\n",
       "  <tbody>\n",
       "  </tbody>\n",
       "</table>\n",
       "</div>"
      ],
      "text/plain": [
       "Empty DataFrame\n",
       "Columns: [city, lat, lng, max temp, humidity, cloudiness, wind speed, country, date]\n",
       "Index: []"
      ]
     },
     "execution_count": 28,
     "metadata": {},
     "output_type": "execute_result"
    }
   ],
   "source": [
    "#check to see if there are any humidity values above 100\n",
    "filtered_df = data_df[data_df['humidity'] > 100]\n",
    "filtered_df\n",
    "#filtered_df is empty which means there are no cities with humidity values over 100"
   ]
  },
  {
   "cell_type": "markdown",
   "metadata": {},
   "source": [
    "## Plotting the Data\n",
    "* Use proper labeling of the plots using plot titles (including date of analysis) and axes labels.\n",
    "* Save the plotted figures as .pngs."
   ]
  },
  {
   "cell_type": "markdown",
   "metadata": {},
   "source": [
    "## Latitude vs. Temperature Plot"
   ]
  },
  {
   "cell_type": "code",
   "execution_count": 32,
   "metadata": {},
   "outputs": [
    {
     "data": {
      "text/plain": [
       "Text(0, 0.5, 'Max Temp (Degrees K)')"
      ]
     },
     "execution_count": 32,
     "metadata": {},
     "output_type": "execute_result"
    },
    {
     "data": {
      "image/png": "[encoded data removed]",
      "text/plain": [
       "<Figure size 432x288 with 1 Axes>"
      ]
     },
     "metadata": {
      "needs_background": "light"
     },
     "output_type": "display_data"
    }
   ],
   "source": [
    "plt.scatter(data_df[\"lat\"], data_df[\"max temp\"])\n",
    "plt.title(\"City Latitude vs Max Temp\")\n",
    "plt.xlabel(\"Latitude\")\n",
    "plt.ylabel(\"Max Temp (Degrees K)\")\n",
    "plt.savefig(\"temp_plot.png\")"
   ]
  },
  {
   "cell_type": "markdown",
   "metadata": {},
   "source": [
    "## Latitude vs. Humidity Plot"
   ]
  },
  {
   "cell_type": "code",
   "execution_count": 33,
   "metadata": {},
   "outputs": [
    {
     "data": {
      "text/plain": [
       "Text(0, 0.5, 'Humidity')"
      ]
     },
     "execution_count": 33,
     "metadata": {},
     "output_type": "execute_result"
    },
    {
     "data": {
      "image/png": "[encoded data removed]",
      "text/plain": [
       "<Figure size 432x288 with 1 Axes>"
      ]
     },
     "metadata": {
      "needs_background": "light"
     },
     "output_type": "display_data"
    }
   ],
   "source": [
    "plt.scatter(data_df[\"lat\"], data_df[\"humidity\"])\n",
    "plt.title(\"City Latitude vs Humidity\")\n",
    "plt.xlabel(\"Latitude\")\n",
    "plt.ylabel(\"Humidity\")\n",
    "plt.savefig(\"humidity_plot.png\")"
   ]
  },
  {
   "cell_type": "markdown",
   "metadata": {},
   "source": [
    "## Latitude vs. Cloudiness Plot"
   ]
  },
  {
   "cell_type": "code",
   "execution_count": 35,
   "metadata": {},
   "outputs": [
    {
     "data": {
      "text/plain": [
       "Text(0, 0.5, 'Cloudiness %')"
      ]
     },
     "execution_count": 35,
     "metadata": {},
     "output_type": "execute_result"
    },
    {
     "data": {
      "image/png": "[encoded data removed]",
      "text/plain": [
       "<Figure size 432x288 with 1 Axes>"
      ]
     },
     "metadata": {
      "needs_background": "light"
     },
     "output_type": "display_data"
    }
   ],
   "source": [
    "plt.scatter(data_df[\"lat\"], data_df[\"cloudiness\"])\n",
    "plt.title(\"City Latitude vs Cloudiness\")\n",
    "plt.xlabel(\"Latitude\")\n",
    "plt.ylabel(\"Cloudiness %\")\n",
    "plt.savefig(\"cloudiness.png\")"
   ]
  },
  {
   "cell_type": "markdown",
   "metadata": {},
   "source": [
    "## Latitude vs. Wind Speed Plot"
   ]
  },
  {
   "cell_type": "code",
   "execution_count": 36,
   "metadata": {},
   "outputs": [
    {
     "data": {
      "text/plain": [
       "Text(0, 0.5, 'Wind Speed (m/s)')"
      ]
     },
     "execution_count": 36,
     "metadata": {},
     "output_type": "execute_result"
    },
    {
     "data": {
      "image/png": "[encoded data removed]",
      "text/plain": [
       "<Figure size 432x288 with 1 Axes>"
      ]
     },
     "metadata": {
      "needs_background": "light"
     },
     "output_type": "display_data"
    }
   ],
   "source": [
    "plt.scatter(data_df[\"lat\"], data_df[\"wind speed\"])\n",
    "plt.title(\"City Latitude vs Wind Speed\")\n",
    "plt.xlabel(\"Latitude\")\n",
    "plt.ylabel(\"Wind Speed (m/s)\")\n"
   ]
  },
  {
   "cell_type": "markdown",
   "metadata": {},
   "source": [
    "## Linear Regression"
   ]
  },
  {
   "cell_type": "code",
   "execution_count": 24,
   "metadata": {},
   "outputs": [],
   "source": []
  },
  {
   "cell_type": "markdown",
   "metadata": {},
   "source": [
    "####  Northern Hemisphere - Max Temp vs. Latitude Linear Regression"
   ]
  },
  {
   "cell_type": "code",
   "execution_count": 25,
   "metadata": {},
   "outputs": [
    {
     "name": "stdout",
     "output_type": "stream",
     "text": [
      "The r-value is: 0.46937863826630627\n"
     ]
    },
    {
     "data": {
      "image/png": "[encoded data removed]",
      "text/plain": [
       "<Figure size 432x288 with 1 Axes>"
      ]
     },
     "metadata": {
      "needs_background": "light"
     },
     "output_type": "display_data"
    }
   ],
   "source": []
  },
  {
   "cell_type": "markdown",
   "metadata": {},
   "source": [
    "####  Southern Hemisphere - Max Temp vs. Latitude Linear Regression"
   ]
  },
  {
   "cell_type": "code",
   "execution_count": 26,
   "metadata": {},
   "outputs": [
    {
     "name": "stdout",
     "output_type": "stream",
     "text": [
      "The r-value is: 0.6082708688906918\n"
     ]
    },
    {
     "data": {
      "image/png": "[encoded data removed]",
      "text/plain": [
       "<Figure size 432x288 with 1 Axes>"
      ]
     },
     "metadata": {
      "needs_background": "light"
     },
     "output_type": "display_data"
    }
   ],
   "source": []
  },
  {
   "cell_type": "markdown",
   "metadata": {},
   "source": [
    "####  Northern Hemisphere - Humidity (%) vs. Latitude Linear Regression"
   ]
  },
  {
   "cell_type": "code",
   "execution_count": 27,
   "metadata": {},
   "outputs": [
    {
     "name": "stdout",
     "output_type": "stream",
     "text": [
      "The r-value is: 0.000543987878808455\n"
     ]
    },
    {
     "data": {
      "image/png": "[encoded data removed]",
      "text/plain": [
       "<Figure size 432x288 with 1 Axes>"
      ]
     },
     "metadata": {
      "needs_background": "light"
     },
     "output_type": "display_data"
    }
   ],
   "source": []
  },
  {
   "cell_type": "markdown",
   "metadata": {},
   "source": [
    "####  Southern Hemisphere - Humidity (%) vs. Latitude Linear Regression"
   ]
  },
  {
   "cell_type": "code",
   "execution_count": 28,
   "metadata": {},
   "outputs": [
    {
     "name": "stdout",
     "output_type": "stream",
     "text": [
      "The r-value is: 0.014985174297345524\n"
     ]
    },
    {
     "data": {
      "image/png": "[encoded data removed]",
      "text/plain": [
       "<Figure size 432x288 with 1 Axes>"
      ]
     },
     "metadata": {
      "needs_background": "light"
     },
     "output_type": "display_data"
    }
   ],
   "source": []
  },
  {
   "cell_type": "markdown",
   "metadata": {},
   "source": [
    "####  Northern Hemisphere - Cloudiness (%) vs. Latitude Linear Regression"
   ]
  },
  {
   "cell_type": "code",
   "execution_count": 29,
   "metadata": {},
   "outputs": [
    {
     "name": "stdout",
     "output_type": "stream",
     "text": [
      "The r-value is: 0.0020898727664228514\n"
     ]
    },
    {
     "data": {
      "image/png": "[encoded data removed]",
      "text/plain": [
       "<Figure size 432x288 with 1 Axes>"
      ]
     },
     "metadata": {
      "needs_background": "light"
     },
     "output_type": "display_data"
    }
   ],
   "source": []
  },
  {
   "cell_type": "markdown",
   "metadata": {},
   "source": [
    "####  Southern Hemisphere - Cloudiness (%) vs. Latitude Linear Regression"
   ]
  },
  {
   "cell_type": "code",
   "execution_count": 30,
   "metadata": {},
   "outputs": [
    {
     "name": "stdout",
     "output_type": "stream",
     "text": [
      "The r-value is: 0.0035263772085582894\n"
     ]
    },
    {
     "data": {
      "image/png": "[encoded data removed]",
      "text/plain": [
       "<Figure size 432x288 with 1 Axes>"
      ]
     },
     "metadata": {
      "needs_background": "light"
     },
     "output_type": "display_data"
    }
   ],
   "source": []
  },
  {
   "cell_type": "markdown",
   "metadata": {},
   "source": [
    "####  Northern Hemisphere - Wind Speed (mph) vs. Latitude Linear Regression"
   ]
  },
  {
   "cell_type": "code",
   "execution_count": 31,
   "metadata": {},
   "outputs": [
    {
     "name": "stdout",
     "output_type": "stream",
     "text": [
      "The r-value is: 0.04019723576144484\n"
     ]
    },
    {
     "data": {
      "image/png": "[encoded data removed]",
      "text/plain": [
       "<Figure size 432x288 with 1 Axes>"
      ]
     },
     "metadata": {
      "needs_background": "light"
     },
     "output_type": "display_data"
    }
   ],
   "source": []
  },
  {
   "cell_type": "markdown",
   "metadata": {},
   "source": [
    "####  Southern Hemisphere - Wind Speed (mph) vs. Latitude Linear Regression"
   ]
  },
  {
   "cell_type": "code",
   "execution_count": 32,
   "metadata": {},
   "outputs": [
    {
     "name": "stdout",
     "output_type": "stream",
     "text": [
      "The r-value is: 0.017128274759839232\n"
     ]
    },
    {
     "data": {
      "image/png": "[encoded data removed]",
      "text/plain": [
       "<Figure size 432x288 with 1 Axes>"
      ]
     },
     "metadata": {
      "needs_background": "light"
     },
     "output_type": "display_data"
    }
   ],
   "source": []
  },
  {
   "cell_type": "code",
   "execution_count": null,
   "metadata": {},
   "outputs": [],
   "source": []
  }
 ],
 "metadata": {
  "anaconda-cloud": {},
  "kernel_info": {
   "name": "python3"
  },
  "kernelspec": {
   "display_name": "Python 3",
   "language": "python",
   "name": "python3"
  },
  "language_info": {
   "codemirror_mode": {
    "name": "ipython",
    "version": 3
   },
   "file_extension": ".py",
   "mimetype": "text/x-python",
   "name": "python",
   "nbconvert_exporter": "python",
   "pygments_lexer": "ipython3",
   "version": "3.8.5"
  },
  "latex_envs": {
   "LaTeX_envs_menu_present": true,
   "autoclose": false,
   "autocomplete": true,
   "bibliofile": "biblio.bib",
   "cite_by": "apalike",
   "current_citInitial": 1,
   "eqLabelWithNumbers": true,
   "eqNumInitial": 1,
   "hotkeys": {
    "equation": "Ctrl-E",
    "itemize": "Ctrl-I"
   },
   "labels_anchors": false,
   "latex_user_defs": false,
   "report_style_numbering": false,
   "user_envs_cfg": false
  },
  "nteract": {
   "version": "0.12.3"
  }
 },
 "nbformat": 4,
 "nbformat_minor": 2
}
